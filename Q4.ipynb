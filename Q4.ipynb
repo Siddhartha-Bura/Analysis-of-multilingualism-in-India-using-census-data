{
 "cells": [
  {
   "cell_type": "code",
   "execution_count": 174,
   "id": "a42321e1",
   "metadata": {},
   "outputs": [],
   "source": [
    "import pandas as pd\n",
    "import numpy as np"
   ]
  },
  {
   "cell_type": "code",
   "execution_count": 175,
   "id": "9d2f9603",
   "metadata": {},
   "outputs": [],
   "source": [
    "df = pd.read_csv(r'DDW-C18-0000.csv') # READING C-18 POPULATION BY BILINGUALISM, TRILINGUALISM, AGE AND SEX\n",
    "df = df[5:]  # STRIPPING UNWANTED ROWS\n",
    "df.drop(df.columns[[1, 6, 7, 9, 10]], axis = 1, inplace = True)   # DROPPING UNWANTED COLUMNS\n",
    "# RENAMING COLUMNS WITH SUITABLE NAMES\n",
    "df.columns = ['state/code','AreaName','Total/Rural/Urban','Age-group','Persons-Numberspeakingsecondlanguage','Persons-Numberspeakingthirdlanguage']"
   ]
  },
  {
   "cell_type": "code",
   "execution_count": 176,
   "id": "371bce96",
   "metadata": {},
   "outputs": [],
   "source": [
    "# EXTRACTING ONLY REQUIRED ROWS AND THEN DROPPING UNWANTED COLUMNS\n",
    "df = df[df['Total/Rural/Urban']=='Total']\n",
    "df = df[df['Age-group']=='Total']"
   ]
  },
  {
   "cell_type": "code",
   "execution_count": 177,
   "id": "4803cfb6",
   "metadata": {},
   "outputs": [],
   "source": [
    "df = df.drop(['Total/Rural/Urban','Age-group'], axis = 1)"
   ]
  },
  {
   "cell_type": "code",
   "execution_count": 178,
   "id": "9b151511",
   "metadata": {},
   "outputs": [],
   "source": [
    "df = df.drop(df[df['AreaName']==\"INDIA\"].index)"
   ]
  },
  {
   "cell_type": "code",
   "execution_count": 179,
   "id": "198a4185",
   "metadata": {},
   "outputs": [],
   "source": [
    "# CONVERTING REQUIRED COLUMNS INTO SPECIFIC DATA TYPE\n",
    "df = df.astype({'Persons-Numberspeakingsecondlanguage':int,'Persons-Numberspeakingthirdlanguage':int})"
   ]
  },
  {
   "cell_type": "code",
   "execution_count": 180,
   "id": "632e279f",
   "metadata": {},
   "outputs": [],
   "source": [
    "# COMPUTING PEOPLE SPEAKING EXACTLY TWO LANGUAGES\n",
    "df['exactlytwo'] = df['Persons-Numberspeakingsecondlanguage'] - df['Persons-Numberspeakingthirdlanguage']"
   ]
  },
  {
   "cell_type": "code",
   "execution_count": 181,
   "id": "68da653f",
   "metadata": {},
   "outputs": [],
   "source": [
    "# RATIO OF 3+ TO 2 LANGUAGE SPEAKERS\n",
    "df['threetotwo'] = df['Persons-Numberspeakingthirdlanguage']/df['exactlytwo']"
   ]
  },
  {
   "cell_type": "code",
   "execution_count": 182,
   "id": "da8932ca",
   "metadata": {},
   "outputs": [
    {
     "data": {
      "text/html": [
       "<div>\n",
       "<style scoped>\n",
       "    .dataframe tbody tr th:only-of-type {\n",
       "        vertical-align: middle;\n",
       "    }\n",
       "\n",
       "    .dataframe tbody tr th {\n",
       "        vertical-align: top;\n",
       "    }\n",
       "\n",
       "    .dataframe thead th {\n",
       "        text-align: right;\n",
       "    }\n",
       "</style>\n",
       "<table border=\"1\" class=\"dataframe\">\n",
       "  <thead>\n",
       "    <tr style=\"text-align: right;\">\n",
       "      <th></th>\n",
       "      <th>state/code</th>\n",
       "      <th>AreaName</th>\n",
       "      <th>Persons-Numberspeakingsecondlanguage</th>\n",
       "      <th>Persons-Numberspeakingthirdlanguage</th>\n",
       "      <th>exactlytwo</th>\n",
       "      <th>threetotwo</th>\n",
       "    </tr>\n",
       "  </thead>\n",
       "  <tbody>\n",
       "    <tr>\n",
       "      <th>35</th>\n",
       "      <td>01</td>\n",
       "      <td>JAMMU &amp; KASHMIR</td>\n",
       "      <td>6183190</td>\n",
       "      <td>2096220</td>\n",
       "      <td>4086970</td>\n",
       "      <td>0.512903</td>\n",
       "    </tr>\n",
       "    <tr>\n",
       "      <th>65</th>\n",
       "      <td>02</td>\n",
       "      <td>HIMACHAL PRADESH</td>\n",
       "      <td>1242705</td>\n",
       "      <td>347286</td>\n",
       "      <td>895419</td>\n",
       "      <td>0.387847</td>\n",
       "    </tr>\n",
       "    <tr>\n",
       "      <th>95</th>\n",
       "      <td>03</td>\n",
       "      <td>PUNJAB</td>\n",
       "      <td>13035224</td>\n",
       "      <td>7829913</td>\n",
       "      <td>5205311</td>\n",
       "      <td>1.504216</td>\n",
       "    </tr>\n",
       "    <tr>\n",
       "      <th>125</th>\n",
       "      <td>04</td>\n",
       "      <td>CHANDIGARH</td>\n",
       "      <td>579920</td>\n",
       "      <td>321979</td>\n",
       "      <td>257941</td>\n",
       "      <td>1.248266</td>\n",
       "    </tr>\n",
       "    <tr>\n",
       "      <th>155</th>\n",
       "      <td>05</td>\n",
       "      <td>UTTARAKHAND</td>\n",
       "      <td>1757756</td>\n",
       "      <td>187822</td>\n",
       "      <td>1569934</td>\n",
       "      <td>0.119637</td>\n",
       "    </tr>\n",
       "  </tbody>\n",
       "</table>\n",
       "</div>"
      ],
      "text/plain": [
       "    state/code          AreaName  Persons-Numberspeakingsecondlanguage  \\\n",
       "35          01   JAMMU & KASHMIR                               6183190   \n",
       "65          02  HIMACHAL PRADESH                               1242705   \n",
       "95          03            PUNJAB                              13035224   \n",
       "125         04        CHANDIGARH                                579920   \n",
       "155         05       UTTARAKHAND                               1757756   \n",
       "\n",
       "     Persons-Numberspeakingthirdlanguage  exactlytwo  threetotwo  \n",
       "35                               2096220     4086970    0.512903  \n",
       "65                                347286      895419    0.387847  \n",
       "95                               7829913     5205311    1.504216  \n",
       "125                               321979      257941    1.248266  \n",
       "155                               187822     1569934    0.119637  "
      ]
     },
     "execution_count": 182,
     "metadata": {},
     "output_type": "execute_result"
    }
   ],
   "source": [
    "df.head()"
   ]
  },
  {
   "cell_type": "code",
   "execution_count": 183,
   "id": "9c5f57bf",
   "metadata": {},
   "outputs": [],
   "source": [
    "# TOP 3 STATES\n",
    "best = df.sort_values(by=['threetotwo'], ascending=False)[0:3]"
   ]
  },
  {
   "cell_type": "code",
   "execution_count": 184,
   "id": "faad5e07",
   "metadata": {},
   "outputs": [],
   "source": [
    "# WORST 3 STATES\n",
    "worst = df.sort_values(by=['threetotwo'], ascending=True)[0:3]"
   ]
  },
  {
   "cell_type": "code",
   "execution_count": 185,
   "id": "925761c5",
   "metadata": {},
   "outputs": [],
   "source": [
    "# CONCATENATING TOP AND WORST THREE\n",
    "df_3to2 = pd.concat([best, worst], ignore_index=True)"
   ]
  },
  {
   "cell_type": "code",
   "execution_count": 186,
   "id": "1c162ff4",
   "metadata": {},
   "outputs": [],
   "source": [
    "df_3to2 = df_3to2[['AreaName','threetotwo']]\n",
    "df_3to2.rename(columns = {'AreaName':'state-name'}, inplace = True)"
   ]
  },
  {
   "cell_type": "code",
   "execution_count": 187,
   "id": "a9462336",
   "metadata": {},
   "outputs": [
    {
     "data": {
      "text/html": [
       "<div>\n",
       "<style scoped>\n",
       "    .dataframe tbody tr th:only-of-type {\n",
       "        vertical-align: middle;\n",
       "    }\n",
       "\n",
       "    .dataframe tbody tr th {\n",
       "        vertical-align: top;\n",
       "    }\n",
       "\n",
       "    .dataframe thead th {\n",
       "        text-align: right;\n",
       "    }\n",
       "</style>\n",
       "<table border=\"1\" class=\"dataframe\">\n",
       "  <thead>\n",
       "    <tr style=\"text-align: right;\">\n",
       "      <th></th>\n",
       "      <th>state-name</th>\n",
       "      <th>threetotwo</th>\n",
       "    </tr>\n",
       "  </thead>\n",
       "  <tbody>\n",
       "    <tr>\n",
       "      <th>0</th>\n",
       "      <td>GOA</td>\n",
       "      <td>1.925807</td>\n",
       "    </tr>\n",
       "    <tr>\n",
       "      <th>1</th>\n",
       "      <td>PUNJAB</td>\n",
       "      <td>1.504216</td>\n",
       "    </tr>\n",
       "    <tr>\n",
       "      <th>2</th>\n",
       "      <td>CHANDIGARH</td>\n",
       "      <td>1.248266</td>\n",
       "    </tr>\n",
       "    <tr>\n",
       "      <th>3</th>\n",
       "      <td>BIHAR</td>\n",
       "      <td>0.111582</td>\n",
       "    </tr>\n",
       "    <tr>\n",
       "      <th>4</th>\n",
       "      <td>UTTARAKHAND</td>\n",
       "      <td>0.119637</td>\n",
       "    </tr>\n",
       "    <tr>\n",
       "      <th>5</th>\n",
       "      <td>UTTAR PRADESH</td>\n",
       "      <td>0.127448</td>\n",
       "    </tr>\n",
       "  </tbody>\n",
       "</table>\n",
       "</div>"
      ],
      "text/plain": [
       "      state-name  threetotwo\n",
       "0            GOA    1.925807\n",
       "1         PUNJAB    1.504216\n",
       "2     CHANDIGARH    1.248266\n",
       "3          BIHAR    0.111582\n",
       "4    UTTARAKHAND    0.119637\n",
       "5  UTTAR PRADESH    0.127448"
      ]
     },
     "execution_count": 187,
     "metadata": {},
     "output_type": "execute_result"
    }
   ],
   "source": [
    "df_3to2"
   ]
  },
  {
   "cell_type": "code",
   "execution_count": 188,
   "id": "4333e8d4",
   "metadata": {},
   "outputs": [],
   "source": [
    "dfp = pd.read_csv(r'DDW_PCA0000_2011_Indiastatedist.csv') # READING INDIA CENSUS DETAILS\n",
    "dfp = dfp.iloc[:,6:13] # Extracting only required information from dataframe"
   ]
  },
  {
   "cell_type": "code",
   "execution_count": 189,
   "id": "c98da078",
   "metadata": {},
   "outputs": [],
   "source": [
    "# EXTRACTING ONLY REQUIRED ROWS AND THEN DROPPING UNWANTED COLUMNS\n",
    "dfp = dfp[dfp['TRU'] == 'Total']\n",
    "dfp = dfp.drop(['TRU','No_HH','TOT_M','TOT_F'], axis = 1)"
   ]
  },
  {
   "cell_type": "code",
   "execution_count": 190,
   "id": "b9b9005d",
   "metadata": {},
   "outputs": [],
   "source": [
    "dfp_state = dfp[dfp['Level']=='STATE']\n",
    "dfp_state = dfp_state.drop(['Level'],axis=1)"
   ]
  },
  {
   "cell_type": "code",
   "execution_count": 191,
   "id": "03146e04",
   "metadata": {},
   "outputs": [],
   "source": [
    "dfp_state.rename(columns = {'Name':'AreaName'}, inplace = True)"
   ]
  },
  {
   "cell_type": "code",
   "execution_count": 192,
   "id": "529816e1",
   "metadata": {},
   "outputs": [],
   "source": [
    "# MERGING BOTH DATA FRAMES\n",
    "df_overall = pd.merge(df, dfp_state, on='AreaName')"
   ]
  },
  {
   "cell_type": "code",
   "execution_count": 193,
   "id": "eda9a210",
   "metadata": {},
   "outputs": [],
   "source": [
    "# COMPUTING PEOPLE SPEAKING EXACTLY ONE LANGUAGE\n",
    "df_overall['exactlyone'] = df_overall['TOT_P'] - df_overall['Persons-Numberspeakingsecondlanguage']"
   ]
  },
  {
   "cell_type": "code",
   "execution_count": 194,
   "id": "6cff6a56",
   "metadata": {},
   "outputs": [],
   "source": [
    "# RATIO OF 2 TO 1\n",
    "df_overall['twotoone'] = df_overall['exactlytwo']/df_overall['exactlyone']"
   ]
  },
  {
   "cell_type": "code",
   "execution_count": 195,
   "id": "d12e617d",
   "metadata": {},
   "outputs": [
    {
     "data": {
      "text/html": [
       "<div>\n",
       "<style scoped>\n",
       "    .dataframe tbody tr th:only-of-type {\n",
       "        vertical-align: middle;\n",
       "    }\n",
       "\n",
       "    .dataframe tbody tr th {\n",
       "        vertical-align: top;\n",
       "    }\n",
       "\n",
       "    .dataframe thead th {\n",
       "        text-align: right;\n",
       "    }\n",
       "</style>\n",
       "<table border=\"1\" class=\"dataframe\">\n",
       "  <thead>\n",
       "    <tr style=\"text-align: right;\">\n",
       "      <th></th>\n",
       "      <th>state/code</th>\n",
       "      <th>AreaName</th>\n",
       "      <th>Persons-Numberspeakingsecondlanguage</th>\n",
       "      <th>Persons-Numberspeakingthirdlanguage</th>\n",
       "      <th>exactlytwo</th>\n",
       "      <th>threetotwo</th>\n",
       "      <th>TOT_P</th>\n",
       "      <th>exactlyone</th>\n",
       "      <th>twotoone</th>\n",
       "    </tr>\n",
       "  </thead>\n",
       "  <tbody>\n",
       "    <tr>\n",
       "      <th>0</th>\n",
       "      <td>01</td>\n",
       "      <td>JAMMU &amp; KASHMIR</td>\n",
       "      <td>6183190</td>\n",
       "      <td>2096220</td>\n",
       "      <td>4086970</td>\n",
       "      <td>0.512903</td>\n",
       "      <td>12541302</td>\n",
       "      <td>6358112</td>\n",
       "      <td>0.642796</td>\n",
       "    </tr>\n",
       "    <tr>\n",
       "      <th>1</th>\n",
       "      <td>02</td>\n",
       "      <td>HIMACHAL PRADESH</td>\n",
       "      <td>1242705</td>\n",
       "      <td>347286</td>\n",
       "      <td>895419</td>\n",
       "      <td>0.387847</td>\n",
       "      <td>6864602</td>\n",
       "      <td>5621897</td>\n",
       "      <td>0.159273</td>\n",
       "    </tr>\n",
       "    <tr>\n",
       "      <th>2</th>\n",
       "      <td>03</td>\n",
       "      <td>PUNJAB</td>\n",
       "      <td>13035224</td>\n",
       "      <td>7829913</td>\n",
       "      <td>5205311</td>\n",
       "      <td>1.504216</td>\n",
       "      <td>27743338</td>\n",
       "      <td>14708114</td>\n",
       "      <td>0.353907</td>\n",
       "    </tr>\n",
       "    <tr>\n",
       "      <th>3</th>\n",
       "      <td>04</td>\n",
       "      <td>CHANDIGARH</td>\n",
       "      <td>579920</td>\n",
       "      <td>321979</td>\n",
       "      <td>257941</td>\n",
       "      <td>1.248266</td>\n",
       "      <td>1055450</td>\n",
       "      <td>475530</td>\n",
       "      <td>0.542428</td>\n",
       "    </tr>\n",
       "    <tr>\n",
       "      <th>4</th>\n",
       "      <td>05</td>\n",
       "      <td>UTTARAKHAND</td>\n",
       "      <td>1757756</td>\n",
       "      <td>187822</td>\n",
       "      <td>1569934</td>\n",
       "      <td>0.119637</td>\n",
       "      <td>10086292</td>\n",
       "      <td>8328536</td>\n",
       "      <td>0.188501</td>\n",
       "    </tr>\n",
       "  </tbody>\n",
       "</table>\n",
       "</div>"
      ],
      "text/plain": [
       "  state/code          AreaName  Persons-Numberspeakingsecondlanguage  \\\n",
       "0         01   JAMMU & KASHMIR                               6183190   \n",
       "1         02  HIMACHAL PRADESH                               1242705   \n",
       "2         03            PUNJAB                              13035224   \n",
       "3         04        CHANDIGARH                                579920   \n",
       "4         05       UTTARAKHAND                               1757756   \n",
       "\n",
       "   Persons-Numberspeakingthirdlanguage  exactlytwo  threetotwo     TOT_P  \\\n",
       "0                              2096220     4086970    0.512903  12541302   \n",
       "1                               347286      895419    0.387847   6864602   \n",
       "2                              7829913     5205311    1.504216  27743338   \n",
       "3                               321979      257941    1.248266   1055450   \n",
       "4                               187822     1569934    0.119637  10086292   \n",
       "\n",
       "   exactlyone  twotoone  \n",
       "0     6358112  0.642796  \n",
       "1     5621897  0.159273  \n",
       "2    14708114  0.353907  \n",
       "3      475530  0.542428  \n",
       "4     8328536  0.188501  "
      ]
     },
     "execution_count": 195,
     "metadata": {},
     "output_type": "execute_result"
    }
   ],
   "source": [
    "df_overall.head()"
   ]
  },
  {
   "cell_type": "code",
   "execution_count": 196,
   "id": "c39d6497",
   "metadata": {},
   "outputs": [],
   "source": [
    "# COMPUTING BEST AND WORST AND THEN APPENDING BOTH AS WE DID EARLIER\n",
    "best = df_overall.sort_values(by=['twotoone'], ascending=False)[0:3]\n",
    "worst = df_overall.sort_values(by=['twotoone'], ascending=True)[0:3]\n",
    "df_2to1 = pd.concat([best, worst], ignore_index=True)\n",
    "df_2to1 = df_2to1[['AreaName','twotoone']]\n",
    "df_2to1.rename(columns = {'AreaName':'state-name'}, inplace = True)"
   ]
  },
  {
   "cell_type": "code",
   "execution_count": 197,
   "id": "1d0535a6",
   "metadata": {},
   "outputs": [
    {
     "data": {
      "text/html": [
       "<div>\n",
       "<style scoped>\n",
       "    .dataframe tbody tr th:only-of-type {\n",
       "        vertical-align: middle;\n",
       "    }\n",
       "\n",
       "    .dataframe tbody tr th {\n",
       "        vertical-align: top;\n",
       "    }\n",
       "\n",
       "    .dataframe thead th {\n",
       "        text-align: right;\n",
       "    }\n",
       "</style>\n",
       "<table border=\"1\" class=\"dataframe\">\n",
       "  <thead>\n",
       "    <tr style=\"text-align: right;\">\n",
       "      <th></th>\n",
       "      <th>state-name</th>\n",
       "      <th>twotoone</th>\n",
       "    </tr>\n",
       "  </thead>\n",
       "  <tbody>\n",
       "    <tr>\n",
       "      <th>0</th>\n",
       "      <td>ANDAMAN &amp; NICOBAR ISLANDS</td>\n",
       "      <td>1.499862</td>\n",
       "    </tr>\n",
       "    <tr>\n",
       "      <th>1</th>\n",
       "      <td>GOA</td>\n",
       "      <td>1.157976</td>\n",
       "    </tr>\n",
       "    <tr>\n",
       "      <th>2</th>\n",
       "      <td>ARUNACHAL PRADESH</td>\n",
       "      <td>0.938953</td>\n",
       "    </tr>\n",
       "    <tr>\n",
       "      <th>3</th>\n",
       "      <td>RAJASTHAN</td>\n",
       "      <td>0.105877</td>\n",
       "    </tr>\n",
       "    <tr>\n",
       "      <th>4</th>\n",
       "      <td>UTTAR PRADESH</td>\n",
       "      <td>0.114661</td>\n",
       "    </tr>\n",
       "    <tr>\n",
       "      <th>5</th>\n",
       "      <td>CHHATTISGARH</td>\n",
       "      <td>0.133643</td>\n",
       "    </tr>\n",
       "  </tbody>\n",
       "</table>\n",
       "</div>"
      ],
      "text/plain": [
       "                  state-name  twotoone\n",
       "0  ANDAMAN & NICOBAR ISLANDS  1.499862\n",
       "1                        GOA  1.157976\n",
       "2          ARUNACHAL PRADESH  0.938953\n",
       "3                  RAJASTHAN  0.105877\n",
       "4              UTTAR PRADESH  0.114661\n",
       "5               CHHATTISGARH  0.133643"
      ]
     },
     "execution_count": 197,
     "metadata": {},
     "output_type": "execute_result"
    }
   ],
   "source": [
    "df_2to1"
   ]
  },
  {
   "cell_type": "code",
   "execution_count": 198,
   "id": "d07318a0",
   "metadata": {},
   "outputs": [],
   "source": [
    "# WRITING FINAL DATAFRAMES INTO CSV FILE\n",
    "df_3to2.to_csv (r'3-to-2-ratio.csv', index = None, header=True)\n",
    "df_2to1.to_csv (r'2-to-1-ratio.csv', index = None, header=True)"
   ]
  }
 ],
 "metadata": {
  "kernelspec": {
   "display_name": "Python 3 (ipykernel)",
   "language": "python",
   "name": "python3"
  },
  "language_info": {
   "codemirror_mode": {
    "name": "ipython",
    "version": 3
   },
   "file_extension": ".py",
   "mimetype": "text/x-python",
   "name": "python",
   "nbconvert_exporter": "python",
   "pygments_lexer": "ipython3",
   "version": "3.9.6"
  }
 },
 "nbformat": 4,
 "nbformat_minor": 5
}
