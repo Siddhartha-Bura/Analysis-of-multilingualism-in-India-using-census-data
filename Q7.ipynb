{
 "cells": [
  {
   "cell_type": "code",
   "execution_count": 76,
   "id": "c5cacc84",
   "metadata": {},
   "outputs": [],
   "source": [
    "import csv\n",
    "import pandas as pd\n",
    "import numpy as np\n",
    "import os"
   ]
  },
  {
   "cell_type": "code",
   "execution_count": 77,
   "id": "21dd6bba",
   "metadata": {},
   "outputs": [],
   "source": [
    "cwd = os.getcwd() # TO GET CURRENT WORKING DIRECTORY, SO THAT WE CAN NAVIGATE INTO INNER FOLDERS"
   ]
  },
  {
   "cell_type": "code",
   "execution_count": 89,
   "id": "a32359f7",
   "metadata": {},
   "outputs": [],
   "source": [
    "states_df = {}                  # DICTIONARY WITH STATE NAME AS KEY AND DATAFRAME AS VALUE\n",
    "mother_tongue_states_df = {}\n",
    "path = cwd +'\\\\C-17\\\\'          # INNER FOLDER NAME WHERE THE DATA LIES\n",
    "fileList = os.listdir(path)\n",
    "for file in fileList:           # ITERATING ALL FILES IN OUR DIRECTORY C-17\n",
    "    file_name = path + file     # CONSTRUCTING ENTIRE FILE PATH TO READ FILE\n",
    "    df = pd.read_excel(file_name) # READING EXCEL FILE INTO OUR DATAFRAME\n",
    "    df = df.iloc[5:]            # REMOVING UNWANTED ROWS \n",
    "    state_name = df.iloc[0][1]  # EXTRACTING STATE NAME\n",
    "    df.drop(df.columns[[0,1,2,5,6,7,10,11,12,15,16]], axis=1, inplace=True) # REMOVING ALL OTHER UNUSEFUL COLUMNS\n",
    "    # WE ARE NOW LEFT WITH SIX COLUMNS, DIVIDING TWO COLUMNS IN EACH DATAFRAME\n",
    "    df1 = df.iloc[:, 0:2]        # TOTAL LANGUAGE SPEAKERS AND CORRESPONDING LANGUAGE\n",
    "    mother_tongue_df = df1.values\n",
    "    df2 = df.iloc[:, 2:4]        # SUBCIDIARY FIRST LANGUAGE SPEAKERS AND CORRESPONDING LANGUAGE\n",
    "    df3 = df.iloc[:, 4:6]        # SUBCIDIARY SECOND LANGUAGE SPEAKERS AND CORRESPONDING LANGUAGE\n",
    "    df = pd.DataFrame( np.concatenate( (df1.values, df2.values,df3.values), axis=0 ) ) # CONCATENATING ALL DATAFRAMES\n",
    "    df = df.dropna()             # DROPPING ROWS WITH MISSING VALUES\n",
    "    df.columns = [ 'AllSpeakersLang', 'AllSpeakersLangPersons' ]     # RENAMING COLUMNS WITH CONVENINIENT NAMES\n",
    "    mother_tongue_df = pd.DataFrame(mother_tongue_df, columns = [ 'AllSpeakersLang', 'AllSpeakersLangPersons' ] ) \n",
    "    mother_tongue_df = mother_tongue_df.dropna()\n",
    "    df = df.groupby(['AllSpeakersLang'],as_index=False).agg({'AllSpeakersLangPersons':'sum'}) # AGGREAGATING ALL SPEAKERS OF LANGUAGES BASED ON LANGUAGE\n",
    "    mother_tongue_df = mother_tongue_df.groupby(['AllSpeakersLang'],as_index=False).agg({'AllSpeakersLangPersons':'sum'})\n",
    "    states_df[state_name] = df\n",
    "    mother_tongue_states_df[state_name] = mother_tongue_df"
   ]
  },
  {
   "cell_type": "code",
   "execution_count": 79,
   "id": "263d8006",
   "metadata": {},
   "outputs": [
    {
     "data": {
      "text/plain": [
       "dict_keys(['JAMMU & KASHMIR', 'HIMACHAL PRADESH', 'PUNJAB', 'CHANDIGARH', 'UTTARAKHAND', 'HARYANA', 'NCT OF DELHI', 'RAJASTHAN', 'UTTAR PRADESH', 'BIHAR', 'SIKKIM', 'ARUNACHAL PRADESH', 'NAGALAND', 'MANIPUR', 'MIZORAM', 'TRIPURA', 'MEGHALAYA', 'ASSAM', 'WEST BENGAL', 'JHARKHAND', 'ODISHA', 'CHHATTISGARH', 'MADHYA PRADESH', 'GUJARAT', 'DAMAN & DIU', 'DADRA & NAGAR HAVELI', 'MAHARASHTRA', 'ANDHRA PRADESH', 'KARNATAKA', 'GOA', 'LAKSHADWEEP', 'KERALA', 'TAMIL NADU', 'PUDUCHERRY', 'ANDAMAN & NICOBAR ISLANDS'])"
      ]
     },
     "execution_count": 79,
     "metadata": {},
     "output_type": "execute_result"
    }
   ],
   "source": [
    "states_df.keys()  # ALL STATE NAMES"
   ]
  },
  {
   "cell_type": "code",
   "execution_count": 80,
   "id": "c6192bc9",
   "metadata": {},
   "outputs": [],
   "source": [
    "region_df = {}        # DICTIONARY WITH REGION NAME AS KEY AND DATAFRAME AS VALUE\n",
    "\n",
    "# AGGREGATING ALL STATES INTO RESPECTIVE REGION\n",
    "region_df['North'] = pd.DataFrame( np.concatenate( (states_df['JAMMU & KASHMIR'].values, states_df['PUNJAB'].values, \n",
    "                                                    states_df['HIMACHAL PRADESH'].values, states_df['HARYANA'].values,\n",
    "                                                   states_df['UTTARAKHAND'].values, states_df['NCT OF DELHI'].values,\n",
    "                                                   states_df['CHANDIGARH'].values), axis=0 ) )\n",
    "region_df['West'] = pd.DataFrame( np.concatenate( (states_df['RAJASTHAN'].values, states_df['GUJARAT'].values, \n",
    "                                                    states_df['MAHARASHTRA'].values, states_df['GOA'].values,\n",
    "                                                   states_df['DADRA & NAGAR HAVELI'].values, states_df['DAMAN & DIU'].values),axis=0 ) )\n",
    "region_df['Central'] = pd.DataFrame( np.concatenate( (states_df['MADHYA PRADESH'].values, states_df['UTTAR PRADESH'].values, \n",
    "                                                    states_df['CHHATTISGARH'].values), axis=0 ) )\n",
    "region_df['East'] = pd.DataFrame( np.concatenate( (states_df['BIHAR'].values, states_df['WEST BENGAL'].values, \n",
    "                                                    states_df['ODISHA'].values, states_df['JHARKHAND'].values),\n",
    "                                                    axis=0 ) )\n",
    "region_df['South'] = pd.DataFrame( np.concatenate( (states_df['KARNATAKA'].values, states_df['ANDHRA PRADESH'].values, \n",
    "                                                    states_df['TAMIL NADU'].values, states_df['KERALA'].values,\n",
    "                                                    states_df['LAKSHADWEEP'].values, states_df['PUDUCHERRY'].values),\n",
    "                                                    axis=0 ) )\n",
    "region_df['North-East'] = pd.DataFrame( np.concatenate( (states_df['ASSAM'].values, states_df['SIKKIM'].values, \n",
    "                                                         states_df['MEGHALAYA'].values,\n",
    "                                                    states_df['TRIPURA'].values, states_df['ARUNACHAL PRADESH'].values,\n",
    "                                                   states_df['MANIPUR'].values, states_df['NAGALAND'].values,\n",
    "                                                   states_df['MIZORAM'].values, states_df['ANDAMAN & NICOBAR ISLANDS'].values),\n",
    "                                                       axis=0 ) )                                  "
   ]
  },
  {
   "cell_type": "code",
   "execution_count": 81,
   "id": "92d0265e",
   "metadata": {},
   "outputs": [],
   "source": [
    "final_df = pd.DataFrame(columns = ['region','language-1','language-2','language-3'])  # FINAL OUTPUR DATAFRAME\n",
    "for i in region_df.keys():   # ITERATING THROUGH ALL REGIONS\n",
    "    region_df[i].columns = [ 'AllSpeakersLang', 'AllSpeakersLangPersons' ]  # NAMING COLUMNS WITH OUR CONVENTION\n",
    "    region_df[i] = region_df[i].groupby(['AllSpeakersLang'],as_index=False).agg({'AllSpeakersLangPersons':'sum'}) # AGGREGATING ALL SPEAKERS OF LANGUAGES BASED ON LANGUAGE\n",
    "    region_df[i] = region_df[i].sort_values(by=['AllSpeakersLangPersons'], ascending=False)  # SORTING IN DESCENDING ORDER TO GET MOST SPOKEN LANGUAGES\n",
    "    # APPENDING THE REGION VALUES TO THE FINAL DATAFRAME\n",
    "    final_df = final_df.append(pd.DataFrame({\"region\": i,\"language-1\":region_df[i]['AllSpeakersLang'].values[0],\"language-2\":region_df[i]['AllSpeakersLang'].values[1],'language-3':region_df[i]['AllSpeakersLang'].values[2]}, index=[0]))\n",
    "final_df = final_df.sort_values(by=['region'], ascending=True)   "
   ]
  },
  {
   "cell_type": "code",
   "execution_count": 82,
   "id": "480f77a9",
   "metadata": {},
   "outputs": [],
   "source": [
    "final_df.to_csv(r'region-india-b.csv', index = None, header=True) # WRITING OUR DATAFRAME INTO OUTPUT CSV FILE"
   ]
  },
  {
   "cell_type": "code",
   "execution_count": 83,
   "id": "6335ddcb",
   "metadata": {},
   "outputs": [],
   "source": [
    "states_df=mother_tongue_states_df\n",
    "region_df = {}        # DICTIONARY WITH REGION NAME AS KEY AND DATAFRAME AS VALUE\n",
    "\n",
    "# AGGREGATING ALL STATES INTO RESPECTIVE REGION\n",
    "region_df['North'] = pd.DataFrame( np.concatenate( (states_df['JAMMU & KASHMIR'].values, states_df['PUNJAB'].values, \n",
    "                                                    states_df['HIMACHAL PRADESH'].values, states_df['HARYANA'].values,\n",
    "                                                   states_df['UTTARAKHAND'].values, states_df['NCT OF DELHI'].values,\n",
    "                                                   states_df['CHANDIGARH'].values), axis=0 ) )\n",
    "region_df['West'] = pd.DataFrame( np.concatenate( (states_df['RAJASTHAN'].values, states_df['GUJARAT'].values, \n",
    "                                                    states_df['MAHARASHTRA'].values, states_df['GOA'].values,\n",
    "                                                   states_df['DADRA & NAGAR HAVELI'].values, states_df['DAMAN & DIU'].values),axis=0 ) )\n",
    "region_df['Central'] = pd.DataFrame( np.concatenate( (states_df['MADHYA PRADESH'].values, states_df['UTTAR PRADESH'].values, \n",
    "                                                    states_df['CHHATTISGARH'].values), axis=0 ) )\n",
    "region_df['East'] = pd.DataFrame( np.concatenate( (states_df['BIHAR'].values, states_df['WEST BENGAL'].values, \n",
    "                                                    states_df['ODISHA'].values, states_df['JHARKHAND'].values),\n",
    "                                                    axis=0 ) )\n",
    "region_df['South'] = pd.DataFrame( np.concatenate( (states_df['KARNATAKA'].values, states_df['ANDHRA PRADESH'].values, \n",
    "                                                    states_df['TAMIL NADU'].values, states_df['KERALA'].values,\n",
    "                                                    states_df['LAKSHADWEEP'].values, states_df['PUDUCHERRY'].values),\n",
    "                                                    axis=0 ) )\n",
    "region_df['North-East'] = pd.DataFrame( np.concatenate( (states_df['ASSAM'].values, states_df['SIKKIM'].values, \n",
    "                                                         states_df['MEGHALAYA'].values,\n",
    "                                                    states_df['TRIPURA'].values, states_df['ARUNACHAL PRADESH'].values,\n",
    "                                                   states_df['MANIPUR'].values, states_df['NAGALAND'].values,\n",
    "                                                   states_df['MIZORAM'].values, states_df['ANDAMAN & NICOBAR ISLANDS'].values),\n",
    "                                                       axis=0 ) )                                  "
   ]
  },
  {
   "cell_type": "code",
   "execution_count": 84,
   "id": "e25c534a",
   "metadata": {},
   "outputs": [],
   "source": [
    "final_mother_tongue_df = pd.DataFrame(columns = ['region','language-1','language-2','language-3'])  # FINAL OUTPUR DATAFRAME\n",
    "for i in region_df.keys():   # ITERATING THROUGH ALL REGIONS\n",
    "    region_df[i].columns = [ 'AllSpeakersLang', 'AllSpeakersLangPersons' ]  # NAMING COLUMNS WITH OUR CONVENTION\n",
    "    region_df[i] = region_df[i].groupby(['AllSpeakersLang'],as_index=False).agg({'AllSpeakersLangPersons':'sum'}) # AGGREGATING ALL SPEAKERS OF LANGUAGES BASED ON LANGUAGE\n",
    "    region_df[i] = region_df[i].sort_values(by=['AllSpeakersLangPersons'], ascending=False)  # SORTING IN DESCENDING ORDER TO GET MOST SPOKEN LANGUAGES\n",
    "    # APPENDING THE REGION VALUES TO THE FINAL DATAFRAME\n",
    "    final_mother_tongue_df = final_mother_tongue_df.append(pd.DataFrame({\"region\": i,\"language-1\":region_df[i]['AllSpeakersLang'].values[0],\"language-2\":region_df[i]['AllSpeakersLang'].values[1],'language-3':region_df[i]['AllSpeakersLang'].values[2]}, index=[0]))\n",
    "final_mother_tongue_df = final_mother_tongue_df.sort_values(by=['region'], ascending=True) "
   ]
  },
  {
   "cell_type": "code",
   "execution_count": 85,
   "id": "c6bb5627",
   "metadata": {},
   "outputs": [],
   "source": [
    "final_mother_tongue_df.to_csv(r'region-india-a.csv', index = None, header=True) # WRITING OUR DATAFRAME INTO OUTPUT CSV FILE"
   ]
  }
 ],
 "metadata": {
  "kernelspec": {
   "display_name": "Python 3 (ipykernel)",
   "language": "python",
   "name": "python3"
  },
  "language_info": {
   "codemirror_mode": {
    "name": "ipython",
    "version": 3
   },
   "file_extension": ".py",
   "mimetype": "text/x-python",
   "name": "python",
   "nbconvert_exporter": "python",
   "pygments_lexer": "ipython3",
   "version": "3.9.6"
  }
 },
 "nbformat": 4,
 "nbformat_minor": 5
}
