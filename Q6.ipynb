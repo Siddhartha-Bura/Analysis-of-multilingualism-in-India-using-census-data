{
 "cells": [
  {
   "cell_type": "code",
   "execution_count": 6,
   "id": "896fa9d5",
   "metadata": {},
   "outputs": [],
   "source": [
    "import pandas as pd\n",
    "import numpy as np"
   ]
  },
  {
   "cell_type": "code",
   "execution_count": 7,
   "id": "0cdf7b84",
   "metadata": {},
   "outputs": [],
   "source": [
    "df = pd.read_csv(r'DDW-C19-0000.csv') # C-19 POPULATION BY BILINGUALISM, TRILINGUALISM, EDUCATIONAL LEVEL AND SEX\n",
    "df = df[5:] # STRIPPING UNWANTED ROWS\n",
    "df = df[:-3] # STRIPPING LAST UNWANTED ROWS\n",
    "df.drop(df.columns[[1, 5, 6, 7, 9, 10]], axis = 1, inplace = True) # DROPPING UNWANTED COLUMNS\n",
    "# RENAMING COLUMNS WITH SUITABLE NAMES\n",
    "df.columns = ['state/ut','AreaName','Total/Rural/Urban','literacy-group','Persons-Numberspeakingthirdlanguage']"
   ]
  },
  {
   "cell_type": "code",
   "execution_count": 8,
   "id": "d8996038",
   "metadata": {},
   "outputs": [],
   "source": [
    "# EXTRACTING ONLY REQUIRED ROWS AND THEN DROPPING UNWANTED COLUMNS\n",
    "df = df[df['Total/Rural/Urban']==\"Total\"]\n",
    "df = df.drop(['Total/Rural/Urban'], axis = 1)\n",
    "df = df.drop(df[df['literacy-group']==\"Total\"].index)"
   ]
  },
  {
   "cell_type": "code",
   "execution_count": 9,
   "id": "1a6c3b14",
   "metadata": {},
   "outputs": [],
   "source": [
    "dfp = pd.read_csv(r'DDW-0000C-08.csv') # C-8  EDUCATIONAL LEVEL BY AGE AND SEX FOR POPULATION AGE 7 AND ABOVE - 2011\n",
    "dfp = dfp[6:] # STRIPPING UNWANTED ROWS\n",
    "# DROPPING UNWANTED COLUMNS\n",
    "dfp.drop(dfp.columns[[0,2,6,7,8,10,11,13,14,16,17,19,20,22,23,25,26,28,29,31,32,34,35,37,38,40,41,42,43,44,45]], axis = 1, inplace = True)\n",
    "# RENAMING COLUMNS WITH SUITABLE NAMES\n",
    "dfp.columns = ['state/ut','state-name','Total/Rural/Urban','literacy-group','Illiterate','Literate','Literate_wel','Literate but below primary','Primary but below middle','Middle but below matric/secondary','Matric/Secondary but below graduate','Higher_secondary','Non_technical_diploma','Technical_diploma','Graduate and above']"
   ]
  },
  {
   "cell_type": "code",
   "execution_count": 10,
   "id": "57ac1653",
   "metadata": {},
   "outputs": [],
   "source": [
    "# EXTRACTING ONLY REQUIRED ROWS AND THEN DROPPING UNWANTED COLUMNS\n",
    "dfp = dfp[dfp['Total/Rural/Urban']==\"Total\"]\n",
    "dfp = dfp.drop(['Total/Rural/Urban'], axis = 1)\n",
    "dfp = dfp[dfp['literacy-group']==\"All ages\"]\n",
    "dfp = dfp.drop(['literacy-group'], axis = 1)\n",
    "# CONVERTING REQUIRED COLUMNS INTO SPECIFIC DATA TYPE\n",
    "dfp = dfp.astype({'Illiterate':float,'Literate':float,'Literate_wel':float,'Literate but below primary':float,'Primary but below middle':float,'Middle but below matric/secondary':float,'Matric/Secondary but below graduate':float,'Higher_secondary':float,'Non_technical_diploma':float,'Technical_diploma':float,'Graduate and above':float})\n",
    "#dfp['Literate'] = dfp['Literate']+dfp['Literate_wel']\n",
    "#dfp = dfp.drop(['Literate_wel'], axis = 1)\n",
    "\n",
    "dfp['Literate but below primary'] = dfp['Literate but below primary']+dfp['Literate_wel']\n",
    "dfp = dfp.drop(['Literate_wel','Literate'],axis=1)\n",
    "\n",
    "dfp['Matric/Secondary but below graduate'] = dfp['Matric/Secondary but below graduate']+dfp['Higher_secondary']+dfp['Non_technical_diploma']+dfp['Technical_diploma']\n",
    "dfp = dfp.drop(['Higher_secondary','Non_technical_diploma','Technical_diploma'], axis = 1)"
   ]
  },
  {
   "cell_type": "code",
   "execution_count": 11,
   "id": "3af69be4",
   "metadata": {},
   "outputs": [],
   "source": [
    "# CONVERTING COLUMNS TO ROWS BY MELT FUNCTION JUST TO MAKE OUR MERGING PROCESS EASY\n",
    "dfp = dfp.melt(id_vars=[\"state/ut\", \"state-name\"], var_name=\"literacy-group\", value_name=\"Total persons\")"
   ]
  },
  {
   "cell_type": "code",
   "execution_count": 12,
   "id": "2a212754",
   "metadata": {},
   "outputs": [],
   "source": [
    "# MERGING DATA FRAMES\n",
    "merged_df = df.merge(dfp,on=[\"state/ut\",\"literacy-group\"])"
   ]
  },
  {
   "cell_type": "code",
   "execution_count": 13,
   "id": "2e92abb3",
   "metadata": {},
   "outputs": [],
   "source": [
    "# CONVERTING REQUIRED COLUMNS INTO SPECIFIC DATA TYPE\n",
    "merged_df = merged_df.astype({'Persons-Numberspeakingthirdlanguage':float,'Total persons':float})\n",
    "merged_df['percentage'] = merged_df['Persons-Numberspeakingthirdlanguage']*100/merged_df['Total persons']"
   ]
  },
  {
   "cell_type": "code",
   "execution_count": 14,
   "id": "4a30cf41",
   "metadata": {},
   "outputs": [],
   "source": [
    "# FINDING LITERACY GROUP HAVING HIGHEST PERCENTAGE OF PEOPLE SPEAKING THREE LANGUAGES OR MORE\n",
    "final_df = pd.DataFrame(columns = ['state/ut','literacy-group','percentage'])\n",
    "for i in merged_df['state/ut'].unique():\n",
    "    dfi = merged_df[merged_df['state/ut']==i]\n",
    "    dfi = dfi.astype({'percentage':float}) \n",
    "    x = dfi.loc[dfi['percentage'].idxmax()]\n",
    "    final_df = final_df.append(pd.DataFrame({\"state/ut\": x['state/ut'],\"literacy-group\":x['literacy-group'],'percentage':x['percentage']}, index=[0]))"
   ]
  },
  {
   "cell_type": "code",
   "execution_count": 15,
   "id": "1403f1c8",
   "metadata": {},
   "outputs": [],
   "source": [
    "final_df.to_csv(r'literacy-india.csv', index = None, header=True) # WRITING OUR DATAFRAME INTO OUTPUT CSV FILE"
   ]
  }
 ],
 "metadata": {
  "kernelspec": {
   "display_name": "Python 3 (ipykernel)",
   "language": "python",
   "name": "python3"
  },
  "language_info": {
   "codemirror_mode": {
    "name": "ipython",
    "version": 3
   },
   "file_extension": ".py",
   "mimetype": "text/x-python",
   "name": "python",
   "nbconvert_exporter": "python",
   "pygments_lexer": "ipython3",
   "version": "3.9.6"
  }
 },
 "nbformat": 4,
 "nbformat_minor": 5
}
