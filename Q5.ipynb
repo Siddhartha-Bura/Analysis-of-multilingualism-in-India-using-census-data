{
 "cells": [
  {
   "cell_type": "code",
   "execution_count": 21,
   "id": "aa203f62",
   "metadata": {},
   "outputs": [],
   "source": [
    "import pandas as pd\n",
    "import numpy as np"
   ]
  },
  {
   "cell_type": "code",
   "execution_count": 22,
   "id": "1a946aa3",
   "metadata": {},
   "outputs": [],
   "source": [
    "df = pd.read_csv(r'DDW-C18-0000.csv') # READING C-18 POPULATION BY BILINGUALISM, TRILINGUALISM, AGE AND SEX\n",
    "df = df[5:]  # STRIPPING UNWANTED ROWS\n",
    "df.drop(df.columns[[1, 5, 6, 7, 9, 10]], axis = 1, inplace = True) # DROPPING UNWANTED COLUMNS\n",
    "# RENAMING COLUMNS WITH SUITABLE NAMES\n",
    "df.columns = ['state/ut','AreaName','Total/Rural/Urban','age-group','Persons-Numberspeakingthirdlanguage']"
   ]
  },
  {
   "cell_type": "code",
   "execution_count": 23,
   "id": "4b1617c5",
   "metadata": {},
   "outputs": [],
   "source": [
    "# EXTRACTING ONLY REQUIRED ROWS AND THEN DROPPING UNWANTED COLUMNS\n",
    "df = df[df['Total/Rural/Urban']==\"Total\"]\n",
    "df = df.drop(['Total/Rural/Urban'], axis = 1)\n",
    "df = df.drop(df[df['age-group']==\"Total\"].index)\n",
    "df = df.drop(df[df['age-group']==\"Age not stated\"].index)"
   ]
  },
  {
   "cell_type": "code",
   "execution_count": 24,
   "id": "f4504495",
   "metadata": {},
   "outputs": [],
   "source": [
    "dfp = pd.read_csv(r'DDW-0000C-14.csv') # C-14 POPULATION IN FIVE YEAR AGE-GROUP BY RESIDENCE AND SEX \n",
    "dfp = dfp[6:]  # STRIPPING UNWANTED ROWS\n",
    "dfp.drop(dfp.columns[[0, 2, 3, 6, 7, 8, 9, 10, 11, 12, 13]], axis = 1, inplace = True) # DROPPING UNWANTED COLUMNS\n",
    "dfp.columns = ['state/ut','age-group','Persons-AgeGroup']  # RENAMING COLUMNS WITH SUITABLE NAMES\n",
    "dfp = dfp.drop(dfp[dfp['age-group'].isin([\"All ages\", \"Age not stated\",\"0-4\"])].index) # DROPPING UNWANTED COLUMNS\n",
    "dfp = dfp.astype({'Persons-AgeGroup':float}) # CONVERTING INTO FLOAT DATA TYPE"
   ]
  },
  {
   "cell_type": "code",
   "execution_count": 25,
   "id": "792faddd",
   "metadata": {},
   "outputs": [],
   "source": [
    "# ADJUSTING AGE GROUPS INTO REQUIRED INTERVAL\n",
    "for i in dfp['state/ut'].unique():\n",
    "    dfi = dfp[dfp['state/ut']==i]\n",
    "    dfi = dfi.astype({'Persons-AgeGroup':float})\n",
    "    thirty_fourty_nine = dfi[dfi['age-group']=='30-34']['Persons-AgeGroup'].values[0] + dfi[dfi['age-group']=='35-39']['Persons-AgeGroup'].values[0] + dfi[dfi['age-group']=='40-44']['Persons-AgeGroup'].values[0] + dfi[dfi['age-group']=='45-49']['Persons-AgeGroup'].values[0]\n",
    "    fifty_sixty_nine = dfi[dfi['age-group']=='50-54']['Persons-AgeGroup'].values[0] + dfi[dfi['age-group']=='55-59']['Persons-AgeGroup'].values[0]+ dfi[dfi['age-group']=='60-64']['Persons-AgeGroup'].values[0] + dfi[dfi['age-group']=='65-69']['Persons-AgeGroup'].values[0]\n",
    "    seventy_plus = dfi[dfi['age-group']=='70-74']['Persons-AgeGroup'].values[0]+ dfi[dfi['age-group']=='75-79']['Persons-AgeGroup'].values[0] + dfi[dfi['age-group']=='80+']['Persons-AgeGroup'].values[0]\n",
    "    dfp = dfp.append(pd.DataFrame({\"state/ut\": i,\"age-group\":\"30-49\",'Persons-AgeGroup':thirty_fourty_nine}, index=[0]))\n",
    "    dfp = dfp.append(pd.DataFrame({\"state/ut\": i,\"age-group\":\"50-69\",'Persons-AgeGroup':fifty_sixty_nine}, index=[0]))\n",
    "    dfp = dfp.append(pd.DataFrame({\"state/ut\": i,\"age-group\":\"70+\",'Persons-AgeGroup':seventy_plus}, index=[0]))"
   ]
  },
  {
   "cell_type": "code",
   "execution_count": 26,
   "id": "0d5881d5",
   "metadata": {},
   "outputs": [],
   "source": [
    "# RESETTING INDEX\n",
    "dfp.reset_index(inplace = True)\n",
    "dfp.drop(dfp.columns[[0]], axis = 1, inplace = True)\n",
    "# DROPPING UNWANTED COLUMNS\n",
    "dfp = dfp.drop(dfp[dfp['age-group'].isin([\"30-34\", \"35-39\",\"40-44\",\"45-49\",\"50-54\",\"55-59\",\"60-64\",\"65-69\",\"70-74\",\"75-79\",\"80+\"])].index)\n",
    "dfp = dfp.sort_values(by=['state/ut'], ascending=True)\n",
    "# MERGING DATA FRAMES\n",
    "merged_df = df.merge(dfp, how='inner', left_on=[\"state/ut\", \"age-group\"], right_on=[\"state/ut\",\"age-group\"])"
   ]
  },
  {
   "cell_type": "code",
   "execution_count": 27,
   "id": "144e2280",
   "metadata": {},
   "outputs": [],
   "source": [
    "# CONVERTING REQUIRED COLUMNS INTO SPECIFIC DATA TYPE\n",
    "merged_df = merged_df.astype({'Persons-Numberspeakingthirdlanguage':float,'Persons-AgeGroup':float})\n",
    "# COMPUTING PERCENTAGE\n",
    "merged_df['percentage'] = (merged_df['Persons-Numberspeakingthirdlanguage']*100/merged_df['Persons-AgeGroup'])"
   ]
  },
  {
   "cell_type": "code",
   "execution_count": 28,
   "id": "2ccc2f1b",
   "metadata": {},
   "outputs": [],
   "source": [
    "# FINDING AGE GROUP HAVING HIGHEST PERCENTAGE OF PEOPLE SPEAKING THREE LANGUAGES OR MORE\n",
    "final_df = pd.DataFrame(columns = ['state/ut','age-group','percentage'])\n",
    "for i in merged_df['state/ut'].unique():\n",
    "    dfi = merged_df[merged_df['state/ut']==i]\n",
    "    dfi = dfi.astype({'percentage':float}) \n",
    "    x = dfi.loc[dfi['percentage'].idxmax()]\n",
    "    final_df = final_df.append(pd.DataFrame({\"state/ut\": x['state/ut'],\"age-group\":x['age-group'],'percentage':x['percentage']}, index=[0]))"
   ]
  },
  {
   "cell_type": "code",
   "execution_count": 29,
   "id": "ff816521",
   "metadata": {},
   "outputs": [],
   "source": [
    "final_df.to_csv(r'age-india.csv', index = None, header=True) # WRITING OUR DATAFRAME INTO OUTPUT CSV FILE"
   ]
  }
 ],
 "metadata": {
  "kernelspec": {
   "display_name": "Python 3 (ipykernel)",
   "language": "python",
   "name": "python3"
  },
  "language_info": {
   "codemirror_mode": {
    "name": "ipython",
    "version": 3
   },
   "file_extension": ".py",
   "mimetype": "text/x-python",
   "name": "python",
   "nbconvert_exporter": "python",
   "pygments_lexer": "ipython3",
   "version": "3.9.6"
  }
 },
 "nbformat": 4,
 "nbformat_minor": 5
}
