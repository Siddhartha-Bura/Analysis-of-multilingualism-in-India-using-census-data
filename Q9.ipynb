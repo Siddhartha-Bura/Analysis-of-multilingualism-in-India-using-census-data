{
 "cells": [
  {
   "cell_type": "code",
   "execution_count": 49,
   "id": "18d54701",
   "metadata": {},
   "outputs": [],
   "source": [
    "import pandas as pd\n",
    "import numpy as np"
   ]
  },
  {
   "cell_type": "code",
   "execution_count": 50,
   "id": "00f09f20",
   "metadata": {},
   "outputs": [],
   "source": [
    "df = pd.read_csv(r'DDW-C19-0000.csv') # C-19 POPULATION BY BILINGUALISM, TRILINGUALISM, EDUCATIONAL LEVEL AND SEX\n",
    "df = df[5:] # STRIPPING UNWANTED ROWS\n",
    "df = df[:-3] # STRIPPING LAST UNWANTED ROWS AS WELL\n",
    "df.drop(df.columns[[1, 5, 6, 7, 8]], axis = 1, inplace = True) # DROPPING UNWANTED COLUMNS\n",
    "# RENAMING COLUMNS WITH SUITABLE NAMES\n",
    "df.columns = ['state/ut','AreaName','Total/Rural/Urban','literacy-group','Males-Numberspeakingthirdlanguage','Females-Numberspeakingthirdlanguage']"
   ]
  },
  {
   "cell_type": "code",
   "execution_count": 51,
   "id": "c8403846",
   "metadata": {},
   "outputs": [],
   "source": [
    "# EXTRACTING ONLY REQUIRED ROWS AND THEN DROPPING UNWANTED COLUMNS\n",
    "df = df[df['Total/Rural/Urban']==\"Total\"]\n",
    "df = df.drop(['Total/Rural/Urban'], axis = 1)\n",
    "df = df.drop(df[df['literacy-group']==\"Total\"].index)"
   ]
  },
  {
   "cell_type": "code",
   "execution_count": 52,
   "id": "eba60212",
   "metadata": {},
   "outputs": [],
   "source": [
    "dfp = pd.read_csv(r'DDW-0000C-08.csv') # C-8  EDUCATIONAL LEVEL BY AGE AND SEX FOR POPULATION AGE 7 AND ABOVE - 2011\n",
    "dfp = dfp[6:]   # STRIPPING UNWANTED ROWS\n",
    "# DROPPING UNWANTED COLUMNS\n",
    "dfp.drop(dfp.columns[[0,2,6,7,8,9,12,15,18,21,24,27,30,33,36,39,42,43,44,45]], axis = 1, inplace = True)\n",
    "# RENAMING COLUMNS WITH SUITABLE NAMES\n",
    "dfp.columns = ['state/ut','state-name','Total/Rural/Urban','literacy-group','Illiterate-males','Illiterate-females','Literate-males','Literate-females','Literate_wel-males', 'Literate_wel-females', 'Literate but below primary-males', 'Literate but below primary-females', 'Primary but below middle-males', 'Primary but below middle-females', 'Middle but below matric/secondary-males', 'Middle but below matric/secondary-females', 'Matric/Secondary but below graduate-males', 'Matric/Secondary but below graduate-females', 'Higher_secondary-males', 'Higher_secondary-females', 'Non_technical_diploma-males', 'Non_technical_diploma-females', 'Technical_diploma-males', 'Technical_diploma-females', 'Graduate and above-males', 'Graduate and above-females']"
   ]
  },
  {
   "cell_type": "code",
   "execution_count": 53,
   "id": "d1c0fb9e",
   "metadata": {},
   "outputs": [],
   "source": [
    "# EXTRACTING ONLY REQUIRED ROWS AND THEN DROPPING UNWANTED COLUMNS\n",
    "dfp = dfp[dfp['Total/Rural/Urban']==\"Total\"]\n",
    "dfp = dfp.drop(['Total/Rural/Urban'], axis = 1)\n",
    "dfp = dfp[dfp['literacy-group']==\"All ages\"]\n",
    "dfp = dfp.drop(['literacy-group'], axis = 1)\n",
    "# CONVERTING REQUIRED COLUMNS INTO SPECIFIC DATA TYPE\n",
    "dfp = dfp.astype({'Illiterate-males' :float,'Illiterate-females' :float,'Literate-males' :float,'Literate-females' :float,'Literate_wel-males' :float,'Literate_wel-females' :float,'Literate but below primary-males' :float,'Literate but below primary-females' :float,'Primary but below middle-males' :float,'Primary but below middle-females' :float,'Middle but below matric/secondary-males' :float,'Middle but below matric/secondary-females' :float,'Matric/Secondary but below graduate-males' :float,'Matric/Secondary but below graduate-females' :float,'Higher_secondary-males' :float,'Higher_secondary-females' :float,'Non_technical_diploma-males' :float,'Non_technical_diploma-females' :float,'Technical_diploma-males' :float,'Technical_diploma-females' :float,'Graduate and above-males' :float,'Graduate and above-females' :float})\n",
    "\n",
    "#dfp['Literate-males'] = dfp['Literate-males']+dfp['Literate_wel-males']\n",
    "#dfp['Literate-females'] = dfp['Literate-females']+dfp['Literate_wel-females']\n",
    "#dfp = dfp.drop(['Literate_wel-males'], axis = 1)\n",
    "#dfp = dfp.drop(['Literate_wel-females'], axis = 1)\n",
    "\n",
    "dfp['Literate but below primary-males'] = dfp['Literate but below primary-males']+dfp['Literate_wel-males']\n",
    "dfp['Literate but below primary-females'] = dfp['Literate but below primary-females']+dfp['Literate_wel-females']\n",
    "dfp = dfp.drop(['Literate_wel-males','Literate-males'], axis = 1)\n",
    "dfp = dfp.drop(['Literate_wel-females','Literate-females'], axis = 1)\n",
    "\n",
    "\n",
    "dfp['Matric/Secondary but below graduate-males'] = dfp['Matric/Secondary but below graduate-males']+dfp['Higher_secondary-males']+dfp['Non_technical_diploma-males']+dfp['Technical_diploma-males']\n",
    "dfp['Matric/Secondary but below graduate-females'] = dfp['Matric/Secondary but below graduate-females']+dfp['Higher_secondary-females']+dfp['Non_technical_diploma-females']+dfp['Technical_diploma-females']\n",
    "# DROPPING UNWANTED COLUMNS\n",
    "dfp = dfp.drop(['Higher_secondary-males','Non_technical_diploma-males','Technical_diploma-males'], axis = 1)\n",
    "dfp = dfp.drop(['Higher_secondary-females','Non_technical_diploma-females','Technical_diploma-females'], axis = 1)"
   ]
  },
  {
   "cell_type": "code",
   "execution_count": 54,
   "id": "24dee860",
   "metadata": {},
   "outputs": [],
   "source": [
    "# CONVERTING COLUMNS TO ROWS BY MELT FUNCTION JUST TO MAKE OUR MERGING PROCESS EASY\n",
    "dfp = dfp.melt(id_vars=[\"state/ut\", \"state-name\"], var_name=\"literacy-group\", value_name=\"Total persons\")"
   ]
  },
  {
   "cell_type": "code",
   "execution_count": 55,
   "id": "e5c56b1e",
   "metadata": {},
   "outputs": [],
   "source": [
    "# ADDING SEPARATE GENDER COLUMN INTO DATAFRAME\n",
    "dfp['gender'] = ['males' if i.find('-males')!=-1  else 'females' for i in dfp['literacy-group']]"
   ]
  },
  {
   "cell_type": "code",
   "execution_count": 56,
   "id": "fff361cd",
   "metadata": {},
   "outputs": [
    {
     "name": "stderr",
     "output_type": "stream",
     "text": [
      "C:\\Users\\siddh\\AppData\\Local\\Temp/ipykernel_13760/1868803875.py:5: SettingWithCopyWarning: \n",
      "A value is trying to be set on a copy of a slice from a DataFrame.\n",
      "Try using .loc[row_indexer,col_indexer] = value instead\n",
      "\n",
      "See the caveats in the documentation: https://pandas.pydata.org/pandas-docs/stable/user_guide/indexing.html#returning-a-view-versus-a-copy\n",
      "  dfp_males['literacy-group'] = [i[:-6] for i in dfp_males['literacy-group']]\n",
      "C:\\Users\\siddh\\AppData\\Local\\Temp/ipykernel_13760/1868803875.py:9: SettingWithCopyWarning: \n",
      "A value is trying to be set on a copy of a slice from a DataFrame.\n",
      "Try using .loc[row_indexer,col_indexer] = value instead\n",
      "\n",
      "See the caveats in the documentation: https://pandas.pydata.org/pandas-docs/stable/user_guide/indexing.html#returning-a-view-versus-a-copy\n",
      "  dfp_females['literacy-group'] = [i[:-8] for i in dfp_females['literacy-group']]\n"
     ]
    }
   ],
   "source": [
    "# NOTE: THESE POPULATION DATAFRAMES ARE ADJUSTED TO SPECIFIC AGE INTERVALS THAT WE ARE WORKING UPON, THIS IS DONE ONLY ONCE\n",
    "# AND HERE, SO WE ARE GONNA REUSE THE POPULATION DATAFRAMES i.e dfp_males,dfp_females IN LATER PARTS WITHOUT COMPUTING AGAIN AND AGAIN.\n",
    "# DIVIDING MALES AND FEMALES INTO SEPARATE DATAFRAMES AND REMOVING UNWANTED COLUMNS\n",
    "dfp_males = dfp[dfp['gender']=='males']\n",
    "dfp_males['literacy-group'] = [i[:-6] for i in dfp_males['literacy-group']]\n",
    "dfp_males.rename(columns = {'Total persons':'males-total'}, inplace = True)\n",
    "dfp_males = dfp_males.drop(['state-name','gender'], axis = 1)\n",
    "dfp_females = dfp[dfp['gender']=='females']\n",
    "dfp_females['literacy-group'] = [i[:-8] for i in dfp_females['literacy-group']]\n",
    "dfp_females.rename(columns = {'Total persons':'females-total'}, inplace = True)\n",
    "dfp_females = dfp_females.drop(['state-name','gender'], axis = 1)"
   ]
  },
  {
   "cell_type": "code",
   "execution_count": 57,
   "id": "a255fe44",
   "metadata": {},
   "outputs": [],
   "source": [
    "# MERGING DATA FRAMES ONE BY ONE\n",
    "merged_df = df.merge(dfp_males,on=[\"state/ut\",\"literacy-group\"])\n",
    "merged_df = merged_df.merge(dfp_females,on=[\"state/ut\",\"literacy-group\"])"
   ]
  },
  {
   "cell_type": "code",
   "execution_count": 58,
   "id": "55769f0e",
   "metadata": {},
   "outputs": [],
   "source": [
    "# CONVERTING REQUIRED COLUMNS INTO SPECIFIC DATA TYPE\n",
    "merged_df = merged_df.astype({'Males-Numberspeakingthirdlanguage':float,'Females-Numberspeakingthirdlanguage':float,'males-total':float,'females-total':float})\n",
    "merged_df['males-ratio-of-3'] = merged_df['Males-Numberspeakingthirdlanguage']/merged_df['males-total']\n",
    "merged_df['females-ratio-of-3'] = merged_df['Females-Numberspeakingthirdlanguage']/merged_df['females-total']"
   ]
  },
  {
   "cell_type": "code",
   "execution_count": 59,
   "id": "8788ef6e",
   "metadata": {},
   "outputs": [],
   "source": [
    "# Finding literacy group separately for males and females that has the highest ratio of population that can speak 3 or more languages\n",
    "final_df = pd.DataFrame(columns = ['state/ut','literacy-group-males','ratio-males','literacy-group-females','ratio-females'])\n",
    "for i in merged_df['state/ut'].unique():\n",
    "    dfi = merged_df[merged_df['state/ut']==i]\n",
    "    dfi = dfi.astype({'males-ratio-of-3':float})\n",
    "    dfi = dfi.astype({'females-ratio-of-3':float})\n",
    "    x = dfi.loc[dfi['males-ratio-of-3'].idxmax()]\n",
    "    y = dfi.loc[dfi['females-ratio-of-3'].idxmax()]\n",
    "    final_df = final_df.append(pd.DataFrame({\"state/ut\": i,\"literacy-group-males\":x['literacy-group'],'ratio-males':x['males-ratio-of-3'],\"literacy-group-females\":y['literacy-group'],'ratio-females':y['females-ratio-of-3']}, index=[0]))"
   ]
  },
  {
   "cell_type": "code",
   "execution_count": 60,
   "id": "56c034f7",
   "metadata": {},
   "outputs": [],
   "source": [
    "final_df.to_csv(r'literacy-gender-a.csv', index = None, header=True) # WRITING OUR DATAFRAME INTO OUTPUT CSV FILE"
   ]
  },
  {
   "cell_type": "code",
   "execution_count": 61,
   "id": "40a124a2",
   "metadata": {},
   "outputs": [],
   "source": [
    "df = pd.read_csv(r'DDW-C19-0000.csv') # C-19 POPULATION BY BILINGUALISM, TRILINGUALISM, EDUCATIONAL LEVEL AND SEX\n",
    "df = df[5:] # STRIPPING UNWANTED ROWS\n",
    "df = df[:-3] # STRIPPING UNWANTED ROWS AT THE END\n",
    "df.drop(df.columns[[1, 5, 8]], axis = 1, inplace = True) # DROPPING UNWANTED COLUMNS\n",
    "# RENAMING COLUMNS WITH SUITABLE NAMES\n",
    "df.columns = ['state/ut','AreaName','Total/Rural/Urban','literacy-group','Males-Numberspeakingsecondlanguage','Females-Numberspeakingsecondlanguage','Males-Numberspeakingthirdlanguage','Females-Numberspeakingthirdlanguage']\n",
    "# CONVERTING REQUIRED COLUMNS INTO SPECIFIC DATA TYPE\n",
    "df = df.astype({'Males-Numberspeakingsecondlanguage':float,'Males-Numberspeakingthirdlanguage':float,'Females-Numberspeakingsecondlanguage':float,'Females-Numberspeakingthirdlanguage':float})\n",
    "df['Males-Numberspeakingsecondlanguage'] = df['Males-Numberspeakingsecondlanguage']-df['Males-Numberspeakingthirdlanguage']\n",
    "df['Females-Numberspeakingsecondlanguage'] = df['Females-Numberspeakingsecondlanguage']-df['Females-Numberspeakingthirdlanguage']\n",
    "df.drop(df.columns[[6,7]], axis = 1, inplace = True) # DROPPING UNWANTED COLUMNS"
   ]
  },
  {
   "cell_type": "code",
   "execution_count": 62,
   "id": "dbebca54",
   "metadata": {},
   "outputs": [],
   "source": [
    "# EXTRACTING ONLY REQUIRED ROWS AND THEN DROPPING UNWANTED COLUMNS\n",
    "df = df[df['Total/Rural/Urban']==\"Total\"]\n",
    "df = df.drop(['Total/Rural/Urban'], axis = 1)\n",
    "df = df.drop(df[df['literacy-group']==\"Total\"].index)"
   ]
  },
  {
   "cell_type": "code",
   "execution_count": 63,
   "id": "78673af5",
   "metadata": {},
   "outputs": [],
   "source": [
    "# MERGING DATA FRAMES ONE BY ONE\n",
    "merged_df = df.merge(dfp_males,on=[\"state/ut\",\"literacy-group\"])\n",
    "merged_df = merged_df.merge(dfp_females,on=[\"state/ut\",\"literacy-group\"])"
   ]
  },
  {
   "cell_type": "code",
   "execution_count": 64,
   "id": "6d70b0a5",
   "metadata": {},
   "outputs": [],
   "source": [
    "# CONVERTING REQUIRED COLUMNS INTO SPECIFIC DATA TYPE\n",
    "merged_df = merged_df.astype({'Males-Numberspeakingsecondlanguage':float,'Females-Numberspeakingsecondlanguage':float,'males-total':float,'females-total':float})\n",
    "merged_df['males-ratio-of-2'] = merged_df['Males-Numberspeakingsecondlanguage']/merged_df['males-total']\n",
    "merged_df['females-ratio-of-2'] = merged_df['Females-Numberspeakingsecondlanguage']/merged_df['females-total']"
   ]
  },
  {
   "cell_type": "code",
   "execution_count": 65,
   "id": "c2b535e0",
   "metadata": {},
   "outputs": [],
   "source": [
    "# Finding literacy group separately for males and females that has the highest ratio of population that can speak exactly 2 languages\n",
    "final_df = pd.DataFrame(columns = ['state/ut','literacy-group-males','ratio-males','literacy-group-females','ratio-females'])\n",
    "for i in merged_df['state/ut'].unique():\n",
    "    dfi = merged_df[merged_df['state/ut']==i]\n",
    "    dfi = dfi.astype({'males-ratio-of-2':float})\n",
    "    dfi = dfi.astype({'females-ratio-of-2':float})\n",
    "    x = dfi.loc[dfi['males-ratio-of-2'].idxmax()]\n",
    "    y = dfi.loc[dfi['females-ratio-of-2'].idxmax()]\n",
    "    final_df = final_df.append(pd.DataFrame({\"state/ut\": i,\"literacy-group-males\":x['literacy-group'],'ratio-males':x['males-ratio-of-2'],\"literacy-group-females\":y['literacy-group'],'ratio-females':y['females-ratio-of-2']}, index=[0]))"
   ]
  },
  {
   "cell_type": "code",
   "execution_count": 66,
   "id": "ba046738",
   "metadata": {},
   "outputs": [],
   "source": [
    "final_df.to_csv(r'literacy-gender-b.csv', index = None, header=True) # WRITING OUR DATAFRAME INTO OUTPUT CSV FILE"
   ]
  },
  {
   "cell_type": "code",
   "execution_count": 67,
   "id": "8c8bfa92",
   "metadata": {},
   "outputs": [],
   "source": [
    "df = pd.read_csv(r'DDW-C19-0000.csv') # C-19 POPULATION BY BILINGUALISM, TRILINGUALISM, EDUCATIONAL LEVEL AND SEX\n",
    "df = df[5:] # STRIPPING UNWANTED ROWS\n",
    "df = df[:-3]  # STRIPPING UNWANTED ROWS AT THE END\n",
    "df.drop(df.columns[[1, 5, 8]], axis = 1, inplace = True) # DROPPING UNWANTED COLUMNS\n",
    "# RENAMING COLUMNS WITH SUITABLE NAMES\n",
    "df.columns = ['state/ut','AreaName','Total/Rural/Urban','literacy-group','Males-Numberspeakingsecondlanguage','Females-Numberspeakingsecondlanguage','Males-Numberspeakingthirdlanguage','Females-Numberspeakingthirdlanguage']\n",
    "df.drop(df.columns[[6,7]], axis = 1, inplace = True) # DROPPING UNWANTED COLUMNS"
   ]
  },
  {
   "cell_type": "code",
   "execution_count": 68,
   "id": "373e711f",
   "metadata": {},
   "outputs": [],
   "source": [
    "# EXTRACTING ONLY REQUIRED ROWS AND THEN DROPPING UNWANTED COLUMNS\n",
    "df = df[df['Total/Rural/Urban']==\"Total\"]\n",
    "df = df.drop(['Total/Rural/Urban'], axis = 1)\n",
    "df = df.drop(df[df['literacy-group']==\"Total\"].index)"
   ]
  },
  {
   "cell_type": "code",
   "execution_count": 69,
   "id": "012f315b",
   "metadata": {},
   "outputs": [],
   "source": [
    "# MERGING DATA FRAMES ONE BY ONE\n",
    "merged_df = df.merge(dfp_males,on=[\"state/ut\",\"literacy-group\"])\n",
    "merged_df = merged_df.merge(dfp_females,on=[\"state/ut\",\"literacy-group\"])"
   ]
  },
  {
   "cell_type": "code",
   "execution_count": 70,
   "id": "ab53570a",
   "metadata": {},
   "outputs": [],
   "source": [
    "# CONVERTING REQUIRED COLUMNS INTO SPECIFIC DATA TYPE\n",
    "merged_df = merged_df.astype({'Males-Numberspeakingsecondlanguage':float,'Females-Numberspeakingsecondlanguage':float,'males-total':float,'females-total':float})\n",
    "merged_df['Males-Numberspeakingfirstlanguage'] = merged_df['males-total']-merged_df['Males-Numberspeakingsecondlanguage']\n",
    "merged_df['Females-Numberspeakingfirstlanguage'] = merged_df['females-total']-merged_df['Females-Numberspeakingsecondlanguage']\n",
    "merged_df = merged_df.drop(['Males-Numberspeakingsecondlanguage','Females-Numberspeakingsecondlanguage'], axis = 1)\n",
    "merged_df['males-ratio-of-1'] = merged_df['Males-Numberspeakingfirstlanguage']/merged_df['males-total']\n",
    "merged_df['females-ratio-of-1'] = merged_df['Females-Numberspeakingfirstlanguage']/merged_df['females-total']"
   ]
  },
  {
   "cell_type": "code",
   "execution_count": 71,
   "id": "c9022879",
   "metadata": {},
   "outputs": [],
   "source": [
    "# Finding literacy group separately for males and females that has the highest ratio of population that can speak exactly 1 language\n",
    "final_df = pd.DataFrame(columns =  ['state/ut','literacy-group-males','ratio-males','literacy-group-females','ratio-females'])\n",
    "for i in merged_df['state/ut'].unique():\n",
    "    dfi = merged_df[merged_df['state/ut']==i]\n",
    "    dfi = dfi.astype({'males-ratio-of-1':float})\n",
    "    dfi = dfi.astype({'females-ratio-of-1':float})\n",
    "    x = dfi.loc[dfi['males-ratio-of-1'].idxmax()]\n",
    "    y = dfi.loc[dfi['females-ratio-of-1'].idxmax()]\n",
    "    final_df = final_df.append(pd.DataFrame({\"state/ut\": i,\"literacy-group-males\":x['literacy-group'],'ratio-males':x['males-ratio-of-1'],\"literacy-group-females\":y['literacy-group'],'ratio-females':y['females-ratio-of-1']}, index=[0]))"
   ]
  },
  {
   "cell_type": "code",
   "execution_count": 72,
   "id": "f94af36c",
   "metadata": {},
   "outputs": [],
   "source": [
    "final_df.to_csv(r'literacy-gender-c.csv', index = None, header=True) # WRITING OUR DATAFRAME INTO OUTPUT CSV FILE"
   ]
  }
 ],
 "metadata": {
  "kernelspec": {
   "display_name": "Python 3 (ipykernel)",
   "language": "python",
   "name": "python3"
  },
  "language_info": {
   "codemirror_mode": {
    "name": "ipython",
    "version": 3
   },
   "file_extension": ".py",
   "mimetype": "text/x-python",
   "name": "python",
   "nbconvert_exporter": "python",
   "pygments_lexer": "ipython3",
   "version": "3.9.6"
  }
 },
 "nbformat": 4,
 "nbformat_minor": 5
}
